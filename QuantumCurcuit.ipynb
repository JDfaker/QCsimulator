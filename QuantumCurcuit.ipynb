{
 "cells": [
  {
   "cell_type": "code",
   "execution_count": 9,
   "metadata": {},
   "outputs": [],
   "source": [
    "import numpy as np\n",
    "import math\n",
    "import QuantumGate as QG\n",
    "\n",
    "class QuantumCircuit():\n",
    "    def __init__(self, qubit_number):\n",
    "        self.qn = qubit_number\n",
    "        self.state = self.get_initial_state()\n",
    "    \n",
    "    def tensor_product(self, V, W):\n",
    "        result = None\n",
    "        M_list = []\n",
    "        for V_row_index in range(V.shape[0]):\n",
    "            R_list = []\n",
    "            for V_col_index in range(V.shape[1]):\n",
    "                temp = np.zeros(W.shape)\n",
    "                V_entry = V[V_row_index][V_col_index]\n",
    "                for W_row_index in range(W.shape[0]):\n",
    "                    for W_col_index in range(W.shape[1]):\n",
    "                        temp[W_row_index][W_col_index] = V_entry*W[W_row_index][W_col_index]  \n",
    "                if len(R_list) == 0:\n",
    "                    R_list = temp\n",
    "                else:\n",
    "                    R_list = np.concatenate((R_list, temp),axis=1)\n",
    "            M_list.append(R_list)\n",
    "\n",
    "        result = M_list[0]\n",
    "        for i in range(1, len(M_list)):\n",
    "            result = np.concatenate((result,M_list[i]),axis=0)\n",
    "        return result\n",
    "    \n",
    "    def get_initial_state(self):\n",
    "        state = np.zeros(2**self.qn)\n",
    "        state[0] = 1\n",
    "        return state.reshape(len(state),1)\n",
    "        \n",
    "    def apply_hardmard(self, wire_index):\n",
    "        if self.qn == 1:\n",
    "            self.state = np.dot(QG.H,self.state)\n",
    "        else:\n",
    "            gate_list = []\n",
    "            for i in range(self.qn):\n",
    "                if i == wire_index:\n",
    "                    gate_list.append(QG.H)\n",
    "                else:\n",
    "                    gate_list.append(QG.I)\n",
    "\n",
    "            gate_M = gate_list[0]\n",
    "            for i in range(1, self.qn):\n",
    "                gate_M = self.tensor_product(gate_M, gate_list[i])\n",
    "            self.state = np.dot(gate_M,self.state)\n",
    "        "
   ]
  },
  {
   "cell_type": "code",
   "execution_count": 10,
   "metadata": {},
   "outputs": [
    {
     "name": "stdout",
     "output_type": "stream",
     "text": [
      "[[0.70710678]\n",
      " [0.70710678]\n",
      " [0.        ]\n",
      " [0.        ]\n",
      " [0.        ]\n",
      " [0.        ]\n",
      " [0.        ]\n",
      " [0.        ]]\n"
     ]
    }
   ],
   "source": [
    "qc = QuantumCircuit(3)\n",
    "qc.apply_hardmard(2)\n",
    "print(qc.state)"
   ]
  },
  {
   "cell_type": "code",
   "execution_count": 45,
   "metadata": {},
   "outputs": [
    {
     "name": "stdout",
     "output_type": "stream",
     "text": [
      "[[1. 0.]\n",
      " [0. 1.]]\n"
     ]
    }
   ],
   "source": [
    "print(np.eye(2))"
   ]
  },
  {
   "cell_type": "code",
   "execution_count": null,
   "metadata": {},
   "outputs": [],
   "source": []
  }
 ],
 "metadata": {
  "kernelspec": {
   "display_name": "Python 3",
   "language": "python",
   "name": "python3"
  },
  "language_info": {
   "codemirror_mode": {
    "name": "ipython",
    "version": 3
   },
   "file_extension": ".py",
   "mimetype": "text/x-python",
   "name": "python",
   "nbconvert_exporter": "python",
   "pygments_lexer": "ipython3",
   "version": "3.8.5"
  }
 },
 "nbformat": 4,
 "nbformat_minor": 4
}
