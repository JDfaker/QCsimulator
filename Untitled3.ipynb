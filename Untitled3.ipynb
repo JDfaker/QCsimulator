{
 "cells": [
  {
   "cell_type": "code",
   "execution_count": 2,
   "metadata": {},
   "outputs": [],
   "source": [
    "import numpy as np\n",
    "import cmath\n",
    "from matplotlib import pyplot as plt \n",
    "import random"
   ]
  },
  {
   "cell_type": "code",
   "execution_count": 3,
   "metadata": {},
   "outputs": [],
   "source": [
    "class QFT:\n",
    "    def __init__(self,no_qubits):\n",
    "        self.n = no_qubits\n",
    "    def generate_states(self):\n",
    "        state_list = []\n",
    "        for i in range(self.n):\n",
    "            state_list.append([1,0])\n",
    "        return np.array(state_list)\n",
    "    def qft_circuit(self):\n",
    "        states = self.generate_states()\n",
    "        had = (1/np.sqrt(2))*np.array([[1,1],\n",
    "                        [1,-1]])\n",
    "        output = []\n",
    "        for i in range(1,len(states)+1):\n",
    "            initial = np.matmul(had,states[i-1])\n",
    "            for j in range(2,len(states) - i):\n",
    "                initial = np.matmul(self.r_n(j), initial)\n",
    "            output.append(initial)\n",
    "        return np.array(output)\n",
    "    def r_n(self,n):\n",
    "        val = cmath.exp((2*np.pi*1j)/(2**n))\n",
    "        return np.array([[1,0],[0,val]])\n",
    "    def generate_superposition(self):\n",
    "        states = self.qft_circuit()\n",
    "        for i in range(len(states)):\n",
    "            initial = np.kron(states[0],states[1])\n",
    "            for j in range(2,len(states)):\n",
    "                initial = np.kron(states[j],initial)\n",
    "        return initial\n",
    "    def plot_qft(self):\n",
    "        plt.title(' Probaility Amplitudes for a '+str(self.n)+ ' qubit register')\n",
    "        plt.ylabel('$|\\psi|^{2}$')\n",
    "        plt.xlabel('Number')\n",
    "        return plt.bar(np.arange(0,2**self.n),(2*(np.real(self.generate_superposition())**2)))"
   ]
  },
  {
   "cell_type": "code",
   "execution_count": 4,
   "metadata": {},
   "outputs": [
    {
     "data": {
      "text/plain": [
       "<BarContainer object of 1024 artists>"
      ]
     },
     "execution_count": 4,
     "metadata": {},
     "output_type": "execute_result"
    },
    {
     "data": {
      "image/png": "[encoded data removed]",
      "text/plain": [
       "<Figure size 432x288 with 1 Axes>"
      ]
     },
     "metadata": {
      "needs_background": "light"
     },
     "output_type": "display_data"
    }
   ],
   "source": [
    "QFT(10).plot_qft()"
   ]
  },
  {
   "cell_type": "code",
   "execution_count": 3,
   "metadata": {},
   "outputs": [],
   "source": [
    "class Shors_Second_Register:\n",
    "    def __init__(self, a, N):\n",
    "        self.a = int(a)\n",
    "        self.N = int(N)\n",
    "        self.t = int(np.ceil(np.log2(N)))#minimum_number of classical bits\n",
    "        self.state_no = int(int(2**(np.ceil(np.log2(N)))))#minimum number of quantum states \n",
    "    def generate_states(self):\n",
    "        binaries = []\n",
    "        registers = []\n",
    "        my_dict = {0: np.array([1,0]), 1: np.array([0,1])}\n",
    "        for i in range(0,self.state_no):\n",
    "            binaries.append(format(i, ''.join('0'+str(self.t)+'b')))\n",
    "        for j in range(0,self.state_no):\n",
    "            temp = 0\n",
    "            initial = np.kron(my_dict[int(binaries[j][0])],my_dict[int(binaries[j][1])])\n",
    "            if self.t == 2:\n",
    "                registers.append(initial)\n",
    "            else:\n",
    "                for k in range(2,self.t):\n",
    "                    temp = np.kron(my_dict[int(binaries[j][k])],initial)\n",
    "                    initial = temp\n",
    "            registers.append(temp)\n",
    "        return np.array(registers)[::-1]\n",
    "    def toffoli_gate(self):\n",
    "        input_value = np.empty([self.t,self.t])\n",
    "        output_value  = np.empty([self.state_no,self.t])\n",
    "        function = np.empty([self.state_no,2,self.t])\n",
    "        for i in range(0,self.state_no):\n",
    "            value_input = map(int,str(format(i, ''.join('0'+str(self.t)+'b'))))\n",
    "            value_output = map(int,str(format((self.a**i)%self.N, ''.join('0'+str(self.t)+'b'))))\n",
    "            function[i,0,0:self.t] = np.array(list(value_input))\n",
    "            function[i,1,0:self.t] = np.array(list(value_output))\n",
    "        return function.astype(int)\n",
    "    def binary_to_quantum(self,function):\n",
    "        function_quantum_state = np.empty([self.state_no,2,self.state_no])\n",
    "        my_dict = {0: np.array([1,0]), 1: np.array([0,1])}\n",
    "        for i in range(0,self.state_no):\n",
    "            temp_input = 0\n",
    "            temp_output = 0\n",
    "            initial_input = np.kron(my_dict[int(function[i,0,0])],my_dict[int(function[i,0,1])])\n",
    "            initial_output = np.kron(my_dict[int(function[i,1,0])],my_dict[int(function[i,1,1])])\n",
    "            if self.t == 2:\n",
    "                function_quantum_state[i,0,0:self.state_no] = initial_input\n",
    "                function_quantum_state[i,1,0:self.state_no] = initial_output\n",
    "            else:\n",
    "                for k in range(2,self.t):\n",
    "                    temp_input = np.kron(my_dict[int(function[i,0,k])],initial_input)\n",
    "                    temp_output = np.kron(my_dict[int(function[i,1,k])],initial_output)\n",
    "                    initial_input = temp_input\n",
    "                    initial_output = temp_output\n",
    "            function_quantum_state[i,0,0:self.state_no] = initial_input\n",
    "            function_quantum_state[i,1,0:self.state_no] = initial_output\n",
    "        return function_quantum_state[::-1].astype(int)\n",
    "    def perform_mod_fn(self):\n",
    "        function = self.binary_to_quantum(self.toffoli_gate())\n",
    "        initial_states = self.generate_states()\n",
    "        combined_registers = np.empty([len(initial_states),2,self.state_no])\n",
    "        for i in range(0,len(initial_states)):\n",
    "            find = initial_states[i]\n",
    "            index = np.int(np.where((function[:,0,:]).dot(find) == sum(find))[0])\n",
    "            combined_registers[i,0,0:self.state_no] = find\n",
    "            combined_registers[i,1,0:self.state_no] = function[index,1]\n",
    "        return combined_registers\n",
    "    def pick_out_states(self):\n",
    "        register = self.perform_mod_fn()\n",
    "        unique_states = np.unique(register[:,1,:],axis = 0 )\n",
    "        prob = []\n",
    "        for i in range(len(unique_states)):\n",
    "            value = unique_states[i]\n",
    "            occurances = np.sum((register[:,1]).dot(value) == sum(value))\n",
    "            prob.append(occurances/self.state_no)\n",
    "        prob = np.array(prob)\n",
    "        value = np.random.choice(len(unique_states), p = prob)\n",
    "        find = unique_states[value,:].astype(int)\n",
    "        positions = np.where((register[:,1,:]).dot(find) == 1)\n",
    "        return np.array(positions)\n",
    "\n",
    "    def work_out_original_indexes(self):\n",
    "        return self.pick_out_states()"
   ]
  },
  {
   "cell_type": "code",
   "execution_count": 4,
   "metadata": {},
   "outputs": [
    {
     "data": {
      "text/plain": [
       "array([[ 2,  5,  8, 11, 14]], dtype=int64)"
      ]
     },
     "execution_count": 4,
     "metadata": {},
     "output_type": "execute_result"
    }
   ],
   "source": [
    "Shors_Second_Register(4,9).work_out_original_indexes()"
   ]
  },
  {
   "cell_type": "code",
   "execution_count": 5,
   "metadata": {},
   "outputs": [],
   "source": [
    "class Shors:\n",
    "    def __init__(self, a, N):\n",
    "        self.a = int(a)\n",
    "        self.N = int(N)\n",
    "        self.t = int(np.ceil(np.log2(N)))#minimum_number of classical bits\n",
    "        self.state_no = int(int(2**(np.ceil(np.log2(N)))))#minimum number of quantum states \n",
    "        self.second_register = Shors_Second_Register(int(a),int(N))\n",
    "        self.qft = QFT(self.t)\n",
    "    def compute_r(self):\n",
    "        indexes = self.second_register.work_out_original_indexes()\n",
    "        probs = np.abs((np.real(self.qft.generate_superposition())))**2\n",
    "        states = np.empty([1,len(indexes[0]),2])\n",
    "        for i in range(len(indexes[0])):\n",
    "            states[0,i,0] = probs[indexes[0,i]]\n",
    "            states[0,i,1] = indexes[0,i]\n",
    "        return states[0,:,1][np.random.choice(len(states[0,:,0]),p = states[0,:,0]/sum(states[0,:,0]))].astype(int)\n",
    "    def cf(self,n):\n",
    "        d = self.state_no\n",
    "        res = []\n",
    "        q, r = divmod(n, d)\n",
    "        while r != 0:\n",
    "            res = res + [q]\n",
    "            prev_r = r\n",
    "            q, r = divmod(d, r)\n",
    "            d = prev_r\n",
    "        return sum(res + [q])\n",
    "    def main(self):\n",
    "        thing = self.compute_r()\n",
    "        r = self.cf(thing)\n",
    "        while r%2!=0:\n",
    "            r = self.cf(self.compute_r())\n",
    "            a1 = int((self.a**(r/2))-1)\n",
    "            a2 = int((self.a**(r/2))+1)\n",
    "        a1 = int((self.a**(r/2))-1)\n",
    "        a2 = int((self.a**(r/2))+1)\n",
    "        return np.gcd(a1,self.N),np.gcd(a2,self.N)\n"
   ]
  },
  {
   "cell_type": "code",
   "execution_count": 95,
   "metadata": {},
   "outputs": [],
   "source": [
    "factors = []\n",
    "n = 78\n",
    "for i in range(0,500):\n",
    "    random = np.random.randint(0,n)\n",
    "    random\n",
    "    while np.gcd(random,n)!=1:\n",
    "        random = np.random.randint(0,n)\n",
    "    factors.append(Shors(random,n).main())\n",
    "factors = np.array(factors).flatten()"
   ]
  },
  {
   "cell_type": "code",
   "execution_count": 96,
   "metadata": {},
   "outputs": [
    {
     "data": {
      "text/plain": [
       "(1000,)"
      ]
     },
     "execution_count": 96,
     "metadata": {},
     "output_type": "execute_result"
    }
   ],
   "source": [
    "factors.shape"
   ]
  },
  {
   "cell_type": "code",
   "execution_count": 100,
   "metadata": {},
   "outputs": [
    {
     "data": {
      "text/plain": [
       "Text(0.5, 1.0, 'Histogram of Shors Algorithm Output for  N = 78')"
      ]
     },
     "execution_count": 100,
     "metadata": {},
     "output_type": "execute_result"
    },
    {
     "data": {
      "image/png": "[encoded data removed]",
      "text/plain": [
       "<Figure size 432x288 with 1 Axes>"
      ]
     },
     "metadata": {
      "needs_background": "light"
     },
     "output_type": "display_data"
    }
   ],
   "source": [
    "plt.hist(factors, bins = range(0,n+1,1))\n",
    "plt.xlabel('Factors')\n",
    "plt.ylabel('Frequencies')\n",
    "plt.title('Histogram of Shors Algorithm Output for  N = '+str(n))"
   ]
  },
  {
   "cell_type": "code",
   "execution_count": 43,
   "metadata": {},
   "outputs": [],
   "source": [
    "for i in range(100):\n",
    "    Shors(5,9).main()"
   ]
  },
  {
   "cell_type": "code",
   "execution_count": 688,
   "metadata": {},
   "outputs": [
    {
     "name": "stdout",
     "output_type": "stream",
     "text": [
      "5\n",
      "0.9999999999999992\n",
      "8 2\n"
     ]
    },
    {
     "data": {
      "text/plain": [
       "(3, 1)"
      ]
     },
     "execution_count": 688,
     "metadata": {},
     "output_type": "execute_result"
    }
   ],
   "source": [
    "Shors(7,9).main()\n"
   ]
  },
  {
   "cell_type": "code",
   "execution_count": 486,
   "metadata": {},
   "outputs": [],
   "source": [
    "def cf(n, d):\n",
    "    res = []\n",
    "    q, r = divmod(n, d)\n",
    "    while r != 0:\n",
    "        res = res + [q]\n",
    "        prev_r = r\n",
    "        q, r = divmod(d, r)\n",
    "        d = prev_r\n",
    "    return res + [q]"
   ]
  },
  {
   "cell_type": "code",
   "execution_count": 488,
   "metadata": {},
   "outputs": [
    {
     "data": {
      "text/plain": [
       "[0, 2, 1, 2]"
      ]
     },
     "execution_count": 488,
     "metadata": {},
     "output_type": "execute_result"
    }
   ],
   "source": [
    "cf(3,8)"
   ]
  },
  {
   "cell_type": "code",
   "execution_count": 530,
   "metadata": {},
   "outputs": [],
   "source": [
    "class Classical_Part():\n",
    "    def __init__(self,test_range):\n",
    "        self.range = test_range\n",
    "    def main(self,N):\n",
    "        gcd = []\n",
    "        for i in range(N):\n",
    "            if np.gcd(i,N)==1:\n",
    "                gcd.append(Shors(i,N).main())\n",
    "            else:\n",
    "                pass\n",
    "        return gcd\n",
    "    def testing(self):\n",
    "        factors = []\n",
    "        for i in range(6,self.range):\n",
    "            factors.append(self.main(i))\n",
    "        return factors"
   ]
  },
  {
   "cell_type": "code",
   "execution_count": 532,
   "metadata": {},
   "outputs": [
    {
     "name": "stdout",
     "output_type": "stream",
     "text": [
      "5 5\n",
      "2\n",
      "1 8\n",
      "5 5\n",
      "8\n",
      "1 8\n",
      "0 0\n",
      "0 0\n",
      "0 0\n",
      "5 5\n",
      "5\n",
      "0\n",
      "0 0\n",
      "4 2\n",
      "4 2\n",
      "0 0\n",
      "3 8\n",
      "4 4\n",
      "12 4\n",
      "3 8\n",
      "15 16\n",
      "15 16\n",
      "2 8\n",
      "7 7\n",
      "8\n",
      "5 8\n",
      "15 16\n",
      "12 4\n",
      "3 8\n",
      "0 0\n",
      "11 8\n",
      "10 5\n",
      "0\n",
      "4 4\n",
      "11 8\n",
      "10 5\n",
      "8\n",
      "6 5\n",
      "2\n",
      "8 2\n",
      "12 4\n",
      "8 2\n",
      "3 8\n",
      "12 4\n",
      "2 8\n",
      "9 7\n",
      "8\n",
      "12 4\n",
      "11 8\n",
      "5 8\n",
      "9 7\n",
      "8\n",
      "0 0\n",
      "13 8\n",
      "7 7\n",
      "8\n",
      "12 4\n",
      "0 0\n",
      "12 4\n",
      "4 4\n",
      "4 4\n",
      "7 7\n",
      "8\n",
      "4 4\n",
      "8 2\n",
      "8 2\n",
      "6 5\n",
      "5\n",
      "4\n",
      "8 2\n",
      "0 0\n",
      "4 4\n",
      "11 8\n",
      "7 7\n",
      "16\n",
      "11 8\n",
      "7 7\n",
      "0\n",
      "7 7\n",
      "7\n",
      "8\n",
      "11 8\n",
      "0 0\n",
      "11 8\n",
      "7 7\n",
      "16\n",
      "6 5\n",
      "7\n",
      "0\n",
      "7 7\n",
      "16\n",
      "8 2\n",
      "25 9\n",
      "9\n",
      "4\n",
      "19 10\n",
      "5 10\n",
      "7 9\n",
      "2\n",
      "3 13\n",
      "9\n",
      "2\n",
      "27 10\n",
      "16 2\n",
      "30 16\n",
      "3 13\n",
      "8\n",
      "2 16\n",
      "2 16\n",
      "11 13\n",
      "7\n",
      "0\n",
      "0 0\n",
      "30 16\n",
      "28 8\n",
      "31 32\n",
      "16 2\n",
      "2 16\n",
      "31 32\n",
      "31 32\n",
      "29 13\n",
      "32\n",
      "2 16\n",
      "10 8\n",
      "27 10\n",
      "23 9\n",
      "8\n",
      "1 32\n",
      "29 13\n",
      "7\n",
      "7\n",
      "4\n",
      "7 9\n",
      "11\n",
      "8\n",
      "30 16\n",
      "17 11\n",
      "11\n",
      "7\n",
      "10\n",
      "17 11\n",
      "11\n",
      "32\n",
      "23 9\n",
      "8\n",
      "13 10\n",
      "1 32\n",
      "24 4\n",
      "10 8\n",
      "9 9\n",
      "11\n",
      "9\n",
      "13\n",
      "4\n",
      "21 13\n",
      "32\n",
      "10 8\n",
      "29 13\n",
      "13\n",
      "10\n",
      "14 7\n",
      "7\n",
      "8\n",
      "24 4\n",
      "10 8\n",
      "18 7\n",
      "9\n",
      "0\n",
      "24 4\n",
      "27 10\n",
      "2 16\n",
      "3 13\n",
      "7\n",
      "9\n",
      "4\n"
     ]
    },
    {
     "data": {
      "text/plain": [
       "[[(6, 2), (6, 2)],\n",
       " [(7, 1), (1, 1), (7, 1), (7, 1), (7, 1), (7, 1)],\n",
       " [(8, 2), (2, 4), (4, 2), (8, 2)],\n",
       " [(9, 1), (3, 1), (3, 1), (3, 1), (3, 1), (9, 1)],\n",
       " [(10, 2), (10, 2), (10, 2), (10, 2)],\n",
       " [(11, 1),\n",
       "  (1, 1),\n",
       "  (11, 1),\n",
       "  (1, 1),\n",
       "  (11, 1),\n",
       "  (1, 1),\n",
       "  (1, 1),\n",
       "  (1, 1),\n",
       "  (1, 1),\n",
       "  (1, 11)],\n",
       " [(12, 2), (4, 6), (12, 2), (12, 2)],\n",
       " [(13, 1),\n",
       "  (1, 1),\n",
       "  (1, 1),\n",
       "  (1, 1),\n",
       "  (13, 1),\n",
       "  (1, 1),\n",
       "  (13, 1),\n",
       "  (13, 1),\n",
       "  (1, 1),\n",
       "  (1, 1),\n",
       "  (13, 1),\n",
       "  (13, 1)],\n",
       " [(14, 2), (2, 2), (2, 2), (2, 2), (2, 2), (2, 14)],\n",
       " [(15, 1), (1, 3), (15, 1), (3, 5), (15, 1), (15, 1), (15, 1), (15, 1)],\n",
       " [(16, 2), (16, 2), (16, 2), (16, 2), (16, 2), (16, 2), (16, 2), (2, 16)],\n",
       " [(17, 1),\n",
       "  (1, 1),\n",
       "  (1, 1),\n",
       "  (1, 1),\n",
       "  (1, 1),\n",
       "  (1, 1),\n",
       "  (1, 1),\n",
       "  (17, 1),\n",
       "  (1, 17),\n",
       "  (1, 17),\n",
       "  (1, 17),\n",
       "  (17, 1),\n",
       "  (17, 1),\n",
       "  (1, 17),\n",
       "  (1, 17),\n",
       "  (1, 1)],\n",
       " [(18, 2), (6, 2), (6, 2), (6, 6), (2, 2), (18, 2)],\n",
       " [(19, 1),\n",
       "  (1, 1),\n",
       "  (1, 1),\n",
       "  (1, 1),\n",
       "  (1, 1),\n",
       "  (1, 1),\n",
       "  (1, 1),\n",
       "  (1, 1),\n",
       "  (1, 1),\n",
       "  (1, 1),\n",
       "  (1, 1),\n",
       "  (1, 1),\n",
       "  (1, 1),\n",
       "  (1, 1),\n",
       "  (1, 1),\n",
       "  (1, 1),\n",
       "  (1, 1),\n",
       "  (1, 19)],\n",
       " [(20, 2), (4, 10), (20, 2), (20, 2), (20, 2), (4, 2), (20, 2), (20, 2)]]"
      ]
     },
     "execution_count": 532,
     "metadata": {},
     "output_type": "execute_result"
    }
   ],
   "source": [
    "Classical_Part(21).testing()"
   ]
  },
  {
   "cell_type": "code",
   "execution_count": null,
   "metadata": {},
   "outputs": [],
   "source": [
    "    def continued_fractions(self,n):\n",
    "        remainders = []\n",
    "        d = self.t\n",
    "        for i in range(10):\n",
    "            remainder = np.floor(n/d)\n",
    "            if remainder > 0:\n",
    "                diff = n - remainder*d\n",
    "                if diff ==0:\n",
    "                    remainders.append(remainder)\n",
    "                    break\n",
    "                new_frac = n/diff\n",
    "                n, d = d, diff\n",
    "            else:\n",
    "                n,d = d,n\n",
    "                if d==0:\n",
    "                    break\n",
    "            remainders.append(remainder)\n",
    "        return np.array(remainders)\n",
    "    def compute_fractions(self,n):\n",
    "        remainders = self.continued_fractions(n)\n",
    "        new_value = 0\n",
    "        fractions = [] \n",
    "        new_denominator = 0\n",
    "        new_numerator = 0\n",
    "        for i in range(len(remainders[0:])-1,1,-1):\n",
    "            if i == (len(remainders[0:]))-1 :\n",
    "                new_denominator = int(remainders[i])\n",
    "                new_numerator = 1 +  new_denominator\n",
    "                new_denominator, new_numerator = new_numerator, new_denominator\n",
    "            else:\n",
    "                new_value = int(remainders[i])\n",
    "                new_numerator = new_numerator + (new_value * new_denominator)\n",
    "                new_denominator, new_numerator = new_numerator, new_denominator\n",
    "        return new_denominator"
   ]
  }
 ],
 "metadata": {
  "kernelspec": {
   "display_name": "Python 3",
   "language": "python",
   "name": "python3"
  },
  "language_info": {
   "codemirror_mode": {
    "name": "ipython",
    "version": 3
   },
   "file_extension": ".py",
   "mimetype": "text/x-python",
   "name": "python",
   "nbconvert_exporter": "python",
   "pygments_lexer": "ipython3",
   "version": "3.8.3"
  }
 },
 "nbformat": 4,
 "nbformat_minor": 4
}
