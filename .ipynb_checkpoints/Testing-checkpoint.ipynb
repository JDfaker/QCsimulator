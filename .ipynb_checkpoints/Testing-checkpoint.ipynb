{
 "cells": [
  {
   "cell_type": "code",
   "execution_count": 1,
   "metadata": {},
   "outputs": [],
   "source": [
    "import qiskit\n",
    "import numpy as np \n",
    "import QuantumCircuit \n",
    "class Testing:\n",
    "    def __init__(self, part):\n",
    "        self.part = str(part)\n",
    "        #self.seed = np.random.seed()\n",
    "    def test(self):\n",
    "        return exec('self.'+self.part+'()')\n",
    "    def get_random_matrices(self):\n",
    "        n = np.random.randint(1,10)\n",
    "        W = []\n",
    "        V = []\n",
    "        for i in range(n):\n",
    "            V_row = []\n",
    "            W_row = []\n",
    "            for j in range(n):\n",
    "                V_row.append([np.random.randint(0, 50)])\n",
    "                W_row.append([np.random.randint(0, 50)])\n",
    "            V.append(V_row)\n",
    "            W.append(W_row)\n",
    "        return V, W\n",
    "    def tensor_product(self):\n",
    "        V, W = get_random_matrices()\n",
    "        tensor_product_test = qiskit.aqua.utils.tensorproduct(np.array(V),np.array(W))\n",
    "        tensor_product_func = QuantumCircuit.QuantumCircuit(2).tensor_product(np.array(V),np.array(W))\n",
    "        all_zeros = not np.any(tensor_product_func.reshape(n**2,n**2)-tensor_product_test.reshape(n**2,n**2))\n",
    "        if (all_zeros == True):\n",
    "            print('Success')\n",
    "        else:\n",
    "            print('Fail')\n",
    "    def dot_product(self):\n",
    "        V, W = get_random_matrices()\n",
    "        dot_product_test = np.matmul(np.array(V), np.array(W))\n",
    "        dot_product_func = QuantumCircuit.QuantumCircuit(2).dot_product(np.array(V), np.array(W))\n",
    "        all_zeros = not np.any(np.array([dot_product_func-dot_product_test]))\n",
    "        if (all_zeros == True):\n",
    "            print('Success')\n",
    "        else:\n",
    "            print('Fail')"
   ]
  },
  {
   "cell_type": "code",
   "execution_count": null,
   "metadata": {},
   "outputs": [],
   "source": []
  }
 ],
 "metadata": {
  "kernelspec": {
   "display_name": "Python 3",
   "language": "python",
   "name": "python3"
  },
  "language_info": {
   "codemirror_mode": {
    "name": "ipython",
    "version": 3
   },
   "file_extension": ".py",
   "mimetype": "text/x-python",
   "name": "python",
   "nbconvert_exporter": "python",
   "pygments_lexer": "ipython3",
   "version": "3.8.5"
  }
 },
 "nbformat": 4,
 "nbformat_minor": 4
}
