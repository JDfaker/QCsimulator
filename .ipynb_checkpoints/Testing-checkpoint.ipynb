{
 "cells": [
  {
   "cell_type": "code",
   "execution_count": null,
   "metadata": {
    "scrolled": false
   },
   "outputs": [],
   "source": [
    "import qiskit\n",
    "import numpy as np \n",
    "import QuantumCircuit \n",
    "class Tensor_Dot_Testing:\n",
    "    def __init__(self, part):\n",
    "        self.part = str(part)\n",
    "        #self.seed = np.random.seed()\n",
    "    def test(self):\n",
    "        return exec('self.'+self.part+'()')\n",
    "    def get_random_matrices(self):\n",
    "        W = np.random.randint(1,50,(np.random.randint(1,10),np.random.randint(1,10)))\n",
    "        V = np.random.randint(1,50,np.shape(W))\n",
    "        return V, W\n",
    "    def tensor_product(self):\n",
    "        V, W = self.get_random_matrices()\n",
    "        tensor_product_test = qiskit.aqua.utils.tensorproduct(np.array(V),np.array(W))\n",
    "        tensor_product_func = QuantumCircuit.QuantumCircuit(2).tensor_product(np.array(V),np.array(W))\n",
    "        assert not np.any(tensor_product_func-tensor_product_test) == True, \"The tensor products do not match\"\n",
    "        print(\"No issue\")\n",
    "    def dot_product(self):\n",
    "        V, W = self.get_random_matrices()\n",
    "        dot_product_test = np.matmul(np.array(V), np.array(W))\n",
    "        dot_product_func = QuantumCircuit.QuantumCircuit(2).dot_product(np.array(V), np.array(W))\n",
    "        all_zeros = not np.any(np.array([dot_product_func-dot_product_test]))\n",
    "        assert not np.any(dot_product_func-dot_product_test) == True, \"The dot products do not match\""
   ]
  },
  {
   "cell_type": "code",
   "execution_count": null,
   "metadata": {},
   "outputs": [],
   "source": [
    "Tensor_Dot = Tensor_Dot_Testing(\"dot_product\")\n",
    "Tensor_Dot.test()"
   ]
  },
  {
   "cell_type": "code",
   "execution_count": null,
   "metadata": {},
   "outputs": [],
   "source": []
  }
 ],
 "metadata": {
  "kernelspec": {
   "display_name": "Python 3",
   "language": "python",
   "name": "python3"
  },
  "language_info": {
   "codemirror_mode": {
    "name": "ipython",
    "version": 3
   },
   "file_extension": ".py",
   "mimetype": "text/x-python",
   "name": "python",
   "nbconvert_exporter": "python",
   "pygments_lexer": "ipython3",
   "version": "3.8.5"
  }
 },
 "nbformat": 4,
 "nbformat_minor": 4
}
