{
 "cells": [
  {
   "cell_type": "code",
   "execution_count": 3,
   "metadata": {
    "scrolled": false
   },
   "outputs": [],
   "source": [
    "import qiskit\n",
    "import numpy as np \n",
    "import QuantumCircuit"
   ]
  },
  {
   "cell_type": "code",
   "execution_count": 4,
   "metadata": {},
   "outputs": [],
   "source": [
    "class Tensor_Dot_Testing:\n",
    "    def __init__(self, part):\n",
    "        self.part = str(part)\n",
    "        #self.seed = np.random.seed()\n",
    "    \n",
    "    def test(self):\n",
    "        return exec('self.'+self.part+'()')\n",
    "    \n",
    "    def get_random_matrices(self):\n",
    "        W = np.random.randint(1,50,(np.random.randint(1,10),np.random.randint(1,10)))\n",
    "        V = np.random.randint(1,50,np.shape(W))\n",
    "        return V, W\n",
    "    \n",
    "    def tensor_product(self):\n",
    "        V, W = self.get_random_matrices()\n",
    "        tensor_product_test = qiskit.aqua.utils.tensorproduct(np.array(V),np.array(W))\n",
    "        tensor_product_func = QuantumCircuit.QuantumCircuit(2).tensor_product(np.array(V),np.array(W))\n",
    "        assert not np.any(tensor_product_func-tensor_product_test) == True, \"The tensor products do not match\"\n",
    "    \n",
    "    def dot_product(self):\n",
    "        V, W = self.get_random_matrices()\n",
    "        dot_product_test = np.matmul(np.array(V), np.array(W))\n",
    "        dot_product_func = QuantumCircuit.QuantumCircuit(2).dot_product(np.array(V), np.array(W))\n",
    "        all_zeros = not np.any(np.array([dot_product_func-dot_product_test]))\n",
    "        assert not np.any(dot_product_func-dot_product_test) == True, \"The dot products do not match\""
   ]
  },
  {
   "cell_type": "code",
   "execution_count": 5,
   "metadata": {},
   "outputs": [],
   "source": [
    "class Gate_For_Test:\n",
    "    '''\n",
    "    Defines gates to be tested.\n",
    "    \n",
    "    qiskit_name defines the name of the method for the gate in the qiskit library\n",
    "    our_name defines the corresponding method name in our simulator\n",
    "    num_qubits defines how many qubits the gate operates on and therefore how many must be provided to not raise an error\n",
    "    '''\n",
    "    def __init__(self, qiskit_name, our_name, num_qubits):\n",
    "        self.qiskit_name = qiskit_name\n",
    "        self.our_name = our_name\n",
    "        self.num_qubits = num_qubits"
   ]
  },
  {
   "cell_type": "code",
   "execution_count": 28,
   "metadata": {},
   "outputs": [],
   "source": [
    "class Gate_Testing:\n",
    "    '''\n",
    "    Tests the given gate with both qiskit and our simulator and compares the results\n",
    "    \n",
    "    Quick gate name reference: \n",
    "    Hadamard - h\n",
    "    Pauli-X - x\n",
    "    Pauli-Y - y\n",
    "    Pauli-Z - z\n",
    "    SWAP - swap\n",
    "    \n",
    "    Parameters:\n",
    "    gate_input - gate to be tested. Should be the qiskit name of the gate (for brevity; this can be changed easily if required).\n",
    "    qubits - size of test circuits\n",
    "    test_qubits - qubits to apply gate to. Will throw an error if outside the registry or an incorrect number of targets.\n",
    "    '''\n",
    "    def __init__(self, gate_input, qubits, *test_qubits):\n",
    "        self.gate_input = str(gate_input)\n",
    "        self.qiskit_circ = qiskit.QuantumCircuit(qubits)\n",
    "        self.our_circ = QuantumCircuit.QuantumCircuit(qubits)\n",
    "        self.num_qubits = qubits\n",
    "        self.test_qubits = test_qubits\n",
    "        assert len(self.test_qubits)<=self.num_qubits, \"More test qubits provided than number of qubits present.\"\n",
    "        \n",
    "        self.gate_database = [Gate_For_Test(\"h\", \"apply_hardmard\", 1), Gate_For_Test(\"x\", \"apply_pauliX\", 1), \n",
    "                              Gate_For_Test(\"y\", \"apply_pauliY\", 1), Gate_For_Test(\"z\", \"apply_pauliZ\", 1), \n",
    "                              Gate_For_Test(\"swap\", \"apply_swap\", 2)]\n",
    "    \n",
    "    def run_qiskit_circuit(self,circ):\n",
    "        backend = qiskit.Aer.get_backend('statevector_simulator')\n",
    "        job = qiskit.execute(circ, backend)\n",
    "        result = job.result()\n",
    "        outputstate = result.get_statevector(circ, decimals=3)\n",
    "        return outputstate\n",
    "    \n",
    "    def qiskit_gate_test(self, qiskit_gate, *test_qubits):\n",
    "        exec(\"self.qiskit_circ.\" + str(qiskit_gate) + \"(\" + str(*test_qubits) + \")\")\n",
    "        qiskit_output = self.run_qiskit_circuit(self.qiskit_circ)\n",
    "        return qiskit_output\n",
    "   \n",
    "    def our_gate_test(self, our_gate, *test_qubits):\n",
    "        exec(\"self.our_circ.\" + str(our_gate) + \"(\" + str(*test_qubits) + \")\")\n",
    "        our_output = self.our_circ.state \n",
    "        return our_output\n",
    "    \n",
    "    def test_gate(self):\n",
    "        gate_this_test = next((x for x in self.gate_database if x.qiskit_name == self.gate_input), None)\n",
    "        \n",
    "        assert len(self.test_qubits)<=gate_this_test.num_qubits, \"Number of test qubits provided is greater than number given gate operates on\"\n",
    "        assert np.max(np.array(self.test_qubits))<self.num_qubits, \"Test qubit index greater than largest register index\"\n",
    "        \n",
    "        qiskit_output = self.qiskit_gate_test(gate_this_test.qiskit_name, *self.test_qubits)\n",
    "        our_output = self.our_gate_test(gate_this_test.our_name, *self.test_qubits)\n",
    "        \n",
    "        assert qiskit_output.all() == our_output.all(), \"The states after the gate's application do not match.\"\n",
    "        print(\"Success!\")"
   ]
  },
  {
   "cell_type": "code",
   "execution_count": null,
   "metadata": {},
   "outputs": [],
   "source": []
  }
 ],
 "metadata": {
  "kernelspec": {
   "display_name": "Python 3",
   "language": "python",
   "name": "python3"
  },
  "language_info": {
   "codemirror_mode": {
    "name": "ipython",
    "version": 3
   },
   "file_extension": ".py",
   "mimetype": "text/x-python",
   "name": "python",
   "nbconvert_exporter": "python",
   "pygments_lexer": "ipython3",
   "version": "3.8.5"
  }
 },
 "nbformat": 4,
 "nbformat_minor": 4
}
