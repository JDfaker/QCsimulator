{
 "cells": [
  {
   "cell_type": "code",
   "execution_count": 3,
   "metadata": {
    "scrolled": false
   },
   "outputs": [],
   "source": [
    "import qiskit\n",
    "import numpy as np \n",
    "import QuantumCircuit"
   ]
  },
  {
   "cell_type": "code",
   "execution_count": 4,
   "metadata": {},
   "outputs": [],
   "source": [
    "class Tensor_Dot_Testing:\n",
    "    def __init__(self, part):\n",
    "        self.part = str(part)\n",
    "        #self.seed = np.random.seed()\n",
    "    \n",
    "    def test(self):\n",
    "        return exec('self.'+self.part+'()')\n",
    "    \n",
    "    def get_random_matrices(self):\n",
    "        W = np.random.randint(1,50,(np.random.randint(1,10),np.random.randint(1,10)))\n",
    "        V = np.random.randint(1,50,np.shape(W))\n",
    "        return V, W\n",
    "    \n",
    "    def tensor_product(self):\n",
    "        V, W = self.get_random_matrices()\n",
    "        tensor_product_test = qiskit.aqua.utils.tensorproduct(np.array(V),np.array(W))\n",
    "        tensor_product_func = QuantumCircuit.QuantumCircuit(2).tensor_product(np.array(V),np.array(W))\n",
    "        assert not np.any(tensor_product_func-tensor_product_test) == True, \"The tensor products do not match\"\n",
    "    \n",
    "    def dot_product(self):\n",
    "        V, W = self.get_random_matrices()\n",
    "        dot_product_test = np.matmul(np.array(V), np.array(W))\n",
    "        dot_product_func = QuantumCircuit.QuantumCircuit(2).dot_product(np.array(V), np.array(W))\n",
    "        all_zeros = not np.any(np.array([dot_product_func-dot_product_test]))\n",
    "        assert not np.any(dot_product_func-dot_product_test) == True, \"The dot products do not match\""
   ]
  },
  {
   "cell_type": "code",
   "execution_count": 5,
   "metadata": {},
   "outputs": [],
   "source": [
    "class Gate_For_Test:\n",
    "    '''\n",
    "    Defines gates to be tested.\n",
    "    \n",
    "    qiskit_name defines the name of the method for the gate in the qiskit library\n",
    "    our_name defines the corresponding method name in our simulator\n",
    "    num_qubits defines how many qubits the gate operates on and therefore how many must be provided to not raise an error\n",
    "    '''\n",
    "    def __init__(self, qiskit_name, our_name, num_qubits):\n",
    "        self.qiskit_name = qiskit_name\n",
    "        self.our_name = our_name\n",
    "        self.num_qubits = num_qubits"
   ]
  },
  {
   "cell_type": "code",
   "execution_count": 9,
   "metadata": {},
   "outputs": [],
   "source": [
    "class Gate_Testing:\n",
    "    '''\n",
    "    Tests the given gate with both qiskit and our simulator and compares the results\n",
    "    Gates:\n",
    "    h - hademard\n",
    "    x - pauli x\n",
    "    y - pauli y\n",
    "    z - pauli z\n",
    "    cx - c-not\n",
    "    ccx - cc-not\n",
    "    swap - swap\n",
    "    '''\n",
    "    def __init__(self, gate_input, qubits, *test_qubits):\n",
    "        self.gate_input = str(gate_input)\n",
    "        self.qiskit_circ = qiskit.QuantumCircuit(qubits)\n",
    "        self.our_circ = QuantumCircuit.QuantumCircuit(qubits)\n",
    "        self.test_qubits = test_qubits\n",
    "        assert len(self.test_qubits)<=qubits, \"More test qubits provided than number of qubits present.\"\n",
    "        \n",
    "        self.gate_database = [Gate_For_Test(\"h\", \"apply_hardmard\", 1), Gate_For_Test(\"x\", \"apply_pauliX\", 1), \n",
    "                              Gate_For_Test(\"y\", \"apply_pauliY\", 1), Gate_For_Test(\"z\", \"apply_pauliZ\", 1), \n",
    "                              Gate_For_Test(\"swap\", \"apply_swap\", 2)]\n",
    "    \n",
    "    def run_qiskit_circuit(circ):\n",
    "        backend = qi.Aer.get_backend('statevector_simulator')\n",
    "        job = qi.execute(circ, backend)\n",
    "        result = job.result()\n",
    "        outputstate = result.get_statevector(circ, decimals=3)\n",
    "        return outputstate\n",
    "    \n",
    "    def qiskit_gate_test(self, qiskit_gate, *test_qubits):\n",
    "        exec(\"self.qiskit_circ.\" + str(qiskit_gate) + \"(\" + str(*test_qubits) + \")\")\n",
    "        qiskit_output = self.run_qiskit_circuit(self.qiskit_circ)\n",
    "        return qiskit_output\n",
    "   \n",
    "    def our_gate_test(self, our_gate, *test_qubits):\n",
    "        exec(\"self.our_circ.\" + str(our_gate) + \"(\" + str(*test_qubits) + \")\")\n",
    "        our_output = our_circ.state \n",
    "        return our_output\n",
    "    \n",
    "    def test_gate(self):\n",
    "        gate_this_test = next((x for x in self.gate_database if x.qiskit_name == self.gate_input), None)\n",
    "        \n",
    "        assert len(self.test_qubits)<=gate_this_test.num_qubits, \"Number of test qubits provided is greater than size of quantum register\"\n",
    "        assert np.max(np.array(self.test_qubits))<num_qubits, \"Test qubit index greater than largest register index\"\n",
    "        \n",
    "        qiskit_output = qiskit_gate_test(gate_this_test.qiskit_name, *self.test_qubits)\n",
    "        our_output = our_gate_test('''args''')\n",
    "        \n",
    "        assert qiskit_output == our_output, \"The states after the gate's application do not match.\""
   ]
  },
  {
   "cell_type": "code",
   "execution_count": 10,
   "metadata": {},
   "outputs": [
    {
     "ename": "NameError",
     "evalue": "name 'test_qubits' is not defined",
     "output_type": "error",
     "traceback": [
      "\u001b[1;31m---------------------------------------------------------------------------\u001b[0m",
      "\u001b[1;31mNameError\u001b[0m                                 Traceback (most recent call last)",
      "\u001b[1;32m<ipython-input-10-5194d06fe3fa>\u001b[0m in \u001b[0;36m<module>\u001b[1;34m\u001b[0m\n\u001b[1;32m----> 1\u001b[1;33m \u001b[0mGate_Testing\u001b[0m\u001b[1;33m(\u001b[0m\u001b[1;34m\"h\"\u001b[0m\u001b[1;33m,\u001b[0m \u001b[1;36m3\u001b[0m\u001b[1;33m,\u001b[0m \u001b[1;36m0\u001b[0m\u001b[1;33m)\u001b[0m\u001b[1;33m.\u001b[0m\u001b[0mtest_gate\u001b[0m\u001b[1;33m(\u001b[0m\u001b[1;33m)\u001b[0m\u001b[1;33m\u001b[0m\u001b[1;33m\u001b[0m\u001b[0m\n\u001b[0m",
      "\u001b[1;32m<ipython-input-9-65b46d8274d2>\u001b[0m in \u001b[0;36mtest_gate\u001b[1;34m(self)\u001b[0m\n\u001b[0;32m     43\u001b[0m \u001b[1;33m\u001b[0m\u001b[0m\n\u001b[0;32m     44\u001b[0m         \u001b[1;32massert\u001b[0m \u001b[0mlen\u001b[0m\u001b[1;33m(\u001b[0m\u001b[0mself\u001b[0m\u001b[1;33m.\u001b[0m\u001b[0mtest_qubits\u001b[0m\u001b[1;33m)\u001b[0m\u001b[1;33m<=\u001b[0m\u001b[0mgate_this_test\u001b[0m\u001b[1;33m.\u001b[0m\u001b[0mnum_qubits\u001b[0m\u001b[1;33m,\u001b[0m \u001b[1;34m\"Number of test qubits provided is greater than size of quantum register\"\u001b[0m\u001b[1;33m\u001b[0m\u001b[1;33m\u001b[0m\u001b[0m\n\u001b[1;32m---> 45\u001b[1;33m         \u001b[1;32massert\u001b[0m \u001b[0mnp\u001b[0m\u001b[1;33m.\u001b[0m\u001b[0mmax\u001b[0m\u001b[1;33m(\u001b[0m\u001b[0mnp\u001b[0m\u001b[1;33m.\u001b[0m\u001b[0marray\u001b[0m\u001b[1;33m(\u001b[0m\u001b[0mtest_qubits\u001b[0m\u001b[1;33m)\u001b[0m\u001b[1;33m)\u001b[0m\u001b[1;33m<\u001b[0m\u001b[0mnum_qubits\u001b[0m\u001b[1;33m,\u001b[0m \u001b[1;34m\"Test qubit index greater than largest register index\"\u001b[0m\u001b[1;33m\u001b[0m\u001b[1;33m\u001b[0m\u001b[0m\n\u001b[0m\u001b[0;32m     46\u001b[0m \u001b[1;33m\u001b[0m\u001b[0m\n\u001b[0;32m     47\u001b[0m         \u001b[0mqiskit_output\u001b[0m \u001b[1;33m=\u001b[0m \u001b[0mqiskit_gate_test\u001b[0m\u001b[1;33m(\u001b[0m\u001b[0mgate_this_test\u001b[0m\u001b[1;33m.\u001b[0m\u001b[0mqiskit_name\u001b[0m\u001b[1;33m,\u001b[0m \u001b[1;33m*\u001b[0m\u001b[0mself\u001b[0m\u001b[1;33m.\u001b[0m\u001b[0mtest_qubits\u001b[0m\u001b[1;33m)\u001b[0m\u001b[1;33m\u001b[0m\u001b[1;33m\u001b[0m\u001b[0m\n",
      "\u001b[1;31mNameError\u001b[0m: name 'test_qubits' is not defined"
     ]
    }
   ],
   "source": [
    "Gate_Testing(\"h\", 3, 0).test_gate()"
   ]
  },
  {
   "cell_type": "code",
   "execution_count": null,
   "metadata": {},
   "outputs": [],
   "source": []
  }
 ],
 "metadata": {
  "kernelspec": {
   "display_name": "Python 3",
   "language": "python",
   "name": "python3"
  },
  "language_info": {
   "codemirror_mode": {
    "name": "ipython",
    "version": 3
   },
   "file_extension": ".py",
   "mimetype": "text/x-python",
   "name": "python",
   "nbconvert_exporter": "python",
   "pygments_lexer": "ipython3",
   "version": "3.8.5"
  }
 },
 "nbformat": 4,
 "nbformat_minor": 4
}
