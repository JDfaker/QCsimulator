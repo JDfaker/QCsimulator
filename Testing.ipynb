{
 "cells": [
  {
   "cell_type": "code",
   "execution_count": 1,
   "metadata": {},
   "outputs": [],
   "source": [
    "import qiskit\n",
    "import numpy as np \n",
    "import QuantumCircuit \n",
    "class Testing:\n",
    "    def __init__(self, part):\n",
    "        self.part = str(part)\n",
    "    def test(self):\n",
    "        return exec('self.'+self.part+'()')\n",
    "    def tensor_product(self):\n",
    "        n = np.random.randint(1,10)\n",
    "        W = []\n",
    "        V = []\n",
    "        for i in range(n):\n",
    "            V_row = []\n",
    "            W_row = []\n",
    "            for j in range(n):\n",
    "                V_row.append([np.random.randint(0, 50)])\n",
    "                W_row.append([np.random.randint(0, 50)])\n",
    "            V.append(V_row)\n",
    "            W.append(W_row)\n",
    "        tensor_product_test = qiskit.aqua.utils.tensorproduct(np.array(V),np.array(W))\n",
    "        tensor_product_func = QuantumCircuit.QuantumCircuit(2).tensor_product(np.array(V),np.array(W))\n",
    "        all_zeros = not np.any(tensor_product_func.reshape(n**2,n**2)-tensor_product_test.reshape(n**2,n**2))\n",
    "        if (all_zeros == True):\n",
    "            print('Success')\n",
    "        else:\n",
    "            print('Fail')"
   ]
  },
  {
   "cell_type": "code",
   "execution_count": null,
   "metadata": {},
   "outputs": [],
   "source": []
  }
 ],
 "metadata": {
  "kernelspec": {
   "display_name": "Python 3",
   "language": "python",
   "name": "python3"
  },
  "language_info": {
   "codemirror_mode": {
    "name": "ipython",
    "version": 3
   },
   "file_extension": ".py",
   "mimetype": "text/x-python",
   "name": "python",
   "nbconvert_exporter": "python",
   "pygments_lexer": "ipython3",
   "version": "3.8.3"
  }
 },
 "nbformat": 4,
 "nbformat_minor": 4
}
