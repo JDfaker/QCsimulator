{
 "cells": [
  {
   "cell_type": "code",
<<<<<<< HEAD
   "execution_count": 244,
=======
   "execution_count": 1,
>>>>>>> 268241f59953170bdfb7d576e069b6ad3211c2d3
   "metadata": {},
   "outputs": [],
   "source": [
    "import qiskit\n",
<<<<<<< HEAD
    "from qiskit import Aer\n",
    "import numpy as np \n",
    "import QuantumCircuit \n",
    "class Testing:\n",
    "    def __init__(self, part,test_no):\n",
    "        self.part = str(part)\n",
    "        self.test_no = test_no\n",
=======
    "import numpy as np \n",
    "import QuantumCircuit \n",
    "class Testing:\n",
    "    def __init__(self, part):\n",
    "        self.part = str(part)\n",
>>>>>>> 268241f59953170bdfb7d576e069b6ad3211c2d3
    "    def test(self):\n",
    "        return exec('self.'+self.part+'()')\n",
    "    def tensor_product(self):\n",
    "        n = np.random.randint(1,10)\n",
    "        W = []\n",
    "        V = []\n",
    "        for i in range(n):\n",
    "            V_row = []\n",
    "            W_row = []\n",
    "            for j in range(n):\n",
    "                V_row.append([np.random.randint(0, 50)])\n",
    "                W_row.append([np.random.randint(0, 50)])\n",
    "            V.append(V_row)\n",
    "            W.append(W_row)\n",
    "        tensor_product_test = qiskit.aqua.utils.tensorproduct(np.array(V),np.array(W))\n",
    "        tensor_product_func = QuantumCircuit.QuantumCircuit(2).tensor_product(np.array(V),np.array(W))\n",
    "        all_zeros = not np.any(tensor_product_func.reshape(n**2,n**2)-tensor_product_test.reshape(n**2,n**2))\n",
    "        if (all_zeros == True):\n",
    "            print('Success')\n",
    "        else:\n",
<<<<<<< HEAD
    "            print('Fail')\n",
    "    def get_initial_state(self):\n",
    "        testing = []\n",
    "        for qubit_no in range(1,self.test_no):\n",
    "            circ = qiskit.QuantumCircuit(qubit_no)\n",
    "            job = qiskit.execute(circ, Aer.get_backend('statevector_simulator'))\n",
    "            initial_state_correct = np.abs(job.result().get_statevector(circ, decimals = 3))\n",
    "            initial_state_to_test = QuantumCircuit.QuantumCircuit(qubit_no).get_initial_state()\n",
    "            all_zeros = not np.any(initial_state_correct - np.reshape(initial_state_to_test,(1,2**qubit_no)))\n",
    "            if all_zeros == True:\n",
    "                testing.append(0)\n",
    "            else:\n",
    "                testing.append(1)\n",
    "        if sum(testing) == 0:\n",
    "            print('Success')\n",
    "        else:\n",
    "            print('Fail')\n",
    "    def apply_hadamard(self):\n",
    "        testing = []\n",
    "        for qubit_no in range(1, self.test_no):\n",
    "            for wire_index in range(0,qubit_no ):\n",
    "                circ = qiskit.QuantumCircuit(qubit_no)\n",
    "                circ.h(wire_index)\n",
    "                job = qiskit.execute(circ, Aer.get_backend('statevector_simulator'))\n",
    "                hadamard_correct = np.abs(job.result().get_statevector(circ, decimals = 3))\n",
    "                hadamard_to_test = QuantumCircuit.QuantumCircuit(qubit_no)\n",
    "                hadamard_to_test.apply_hardmard(wire_index)\n",
    "                print(qubit_no,wire_index,hadamard_correct,np.reshape(hadamard_to_test.state,(1,2**qubit_no)))\n",
    "                all_zeros = not np.any(np.round(hadamard_correct - np.reshape(hadamard_to_test.state,(1,2**qubit_no))))\n",
    "                if all_zeros == True:\n",
    "                    testing.append(0)\n",
    "                else:\n",
    "                    testing.append(1)\n",
    "        if sum(testing) == 0:\n",
    "            print('Success')\n",
    "        else:\n",
    "            print('Fail')"
   ]
=======
    "            print('Fail')"
   ]
  },
  {
   "cell_type": "code",
   "execution_count": null,
   "metadata": {},
   "outputs": [],
   "source": []
>>>>>>> 268241f59953170bdfb7d576e069b6ad3211c2d3
  }
 ],
 "metadata": {
  "kernelspec": {
   "display_name": "Python 3",
   "language": "python",
   "name": "python3"
  },
  "language_info": {
   "codemirror_mode": {
    "name": "ipython",
    "version": 3
   },
   "file_extension": ".py",
   "mimetype": "text/x-python",
   "name": "python",
   "nbconvert_exporter": "python",
   "pygments_lexer": "ipython3",
   "version": "3.8.3"
  }
 },
 "nbformat": 4,
 "nbformat_minor": 4
}
