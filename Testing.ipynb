{
 "cells": [
  {
   "cell_type": "code",
   "execution_count": 1,
   "metadata": {
    "scrolled": false
   },
   "outputs": [],
   "source": [
    "import qiskit\n",
    "import numpy as np \n",
    "import QuantumCircuit"
   ]
  },
  {
   "cell_type": "code",
   "execution_count": 2,
   "metadata": {},
   "outputs": [],
   "source": [
    "class Tensor_Dot_Testing:\n",
    "    def __init__(self, part):\n",
    "        self.part = str(part)\n",
    "        #self.seed = np.random.seed()\n",
    "    \n",
    "    def test(self):\n",
    "        return exec('self.'+self.part+'()')\n",
    "    \n",
    "    def get_random_matrices(self):\n",
    "        W = np.random.randint(1,50,(np.random.randint(1,10),np.random.randint(1,10)))\n",
    "        V = np.random.randint(1,50,np.shape(W))\n",
    "        return V, W\n",
    "    \n",
    "    def tensor_product(self):\n",
    "        V, W = self.get_random_matrices()\n",
    "        tensor_product_test = qiskit.aqua.utils.tensorproduct(np.array(V),np.array(W))\n",
    "        tensor_product_func = QuantumCircuit.QuantumCircuit(2).tensor_product(np.array(V),np.array(W))\n",
    "        assert not np.any(tensor_product_func-tensor_product_test) == True, \"The tensor products do not match\"\n",
    "    \n",
    "    def dot_product(self):\n",
    "        V, W = self.get_random_matrices()\n",
    "        dot_product_test = np.matmul(np.array(V), np.array(W))\n",
    "        dot_product_func = QuantumCircuit.QuantumCircuit(2).dot_product(np.array(V), np.array(W))\n",
    "        all_zeros = not np.any(np.array([dot_product_func-dot_product_test]))\n",
    "        assert not np.any(dot_product_func-dot_product_test) == True, \"The dot products do not match\""
   ]
  },
  {
   "cell_type": "code",
   "execution_count": 3,
   "metadata": {},
   "outputs": [],
   "source": [
    "class Gate_For_Test:\n",
    "    '''\n",
    "    Defines gates to be tested.\n",
    "    \n",
    "    qiskit_name - defines the name of the method for the gate in the qiskit library. Must be str.\n",
    "    our_name - defines the corresponding method name in our simulator. Must be str.\n",
    "    num_qubits - defines how many qubits the gate operates on and therefore how many must be provided to not raise an error.\n",
    "                Must be int.\n",
    "    '''\n",
    "    def __init__(self, qiskit_name, our_name, num_qubits):\n",
    "        self.qiskit_name = qiskit_name\n",
    "        self.our_name = our_name\n",
    "        self.num_qubits = num_qubits"
   ]
  },
  {
   "cell_type": "code",
   "execution_count": 16,
   "metadata": {},
   "outputs": [],
   "source": [
    "class Gate_Testing:\n",
    "    '''\n",
    "    Tests the given gate with both qiskit and our simulator and compares the results\n",
    "    \n",
    "    Quick gate name reference: \n",
    "    Hadamard - h\n",
    "    Pauli-X - x\n",
    "    Pauli-Y - y\n",
    "    Pauli-Z - z\n",
    "    SWAP - swap\n",
    "    \n",
    "    Parameters:\n",
    "    gate_input - gate to be tested. Should be a str corresponding to the qiskit name of the gate (for brevity; this can be \n",
    "                changed easily if required).\n",
    "    qubits - size of test circuits. Type should be int.\n",
    "    test_qubit_1 - first qubit to apply gate to. Will raise an error if outside the registry. Should be int.\n",
    "    test_qubit_2 - second target for use with 2- and 3-qubit gates ONLY. Type should be int. For gates with a control and a \n",
    "                target, the first test qubit is the control and the second is the target.\n",
    "    test_qubit_3 - third target for use with 3-qubit gates ONLY. Type should be int.\n",
    "    test_angle - angle for use with Pauli-Z gates. Type can be int or float.\n",
    "    '''\n",
    "    def __init__(self, gate_input, qubits):\n",
    "        self.gate_input = str(gate_input)\n",
    "        self.num_qubits = qubits\n",
    "        self.qiskit_circ = qiskit.QuantumCircuit(qubits)\n",
    "        self.our_circ = QuantumCircuit.QuantumCircuit(qubits)\n",
    "        \n",
    "        self.gate_database = [Gate_For_Test(\"h\", \"apply_hardmard\", 1), Gate_For_Test(\"x\", \"apply_pauliX\", 1), \n",
    "                              Gate_For_Test(\"y\", \"apply_pauliY\", 1), Gate_For_Test(\"z\", \"apply_pauliZ\", 1), \n",
    "                              Gate_For_Test(\"swap\", \"apply_swap\", 2)]\n",
    "    \n",
    "    def run_qiskit_circuit(self,circ):\n",
    "        backend = qiskit.Aer.get_backend('statevector_simulator')\n",
    "        job = qiskit.execute(circ, backend)\n",
    "        result = job.result()\n",
    "        outputstate = result.get_statevector(circ, decimals=3)\n",
    "        return outputstate\n",
    "    \n",
    "    def qiskit_gate_test(self, qiskit_gate, test_qubits, test_angle):\n",
    "        if qiskit_gate == \"z\":\n",
    "            exec(\"self.qiskit_circ.\" + str(qiskit_gate) + \"(\" + str(test_qubits[0]) + \", \" + str(test_qubits[1]) + \", \" + str(test_angle) + \")\")\n",
    "        elif len(test_qubits) == 3:\n",
    "            exec(\"self.qiskit_circ.\" + str(qiskit_gate) + \"(\" + str(test_qubits[0]) + \", \" + str(test_qubits[1]) + \", \" + str(test_qubits[2]) + \")\")\n",
    "        elif len(test_qubits) == 2:\n",
    "            exec(\"self.qiskit_circ.\" + str(qiskit_gate) + \"(\" + str(test_qubits[0]) + \", \" + str(test_qubits[1]) + \")\")\n",
    "        elif len(test_qubits) == 1:\n",
    "            exec(\"self.qiskit_circ.\" + str(qiskit_gate) + \"(\" + str(test_qubits[0]) + \")\")\n",
    "        else:\n",
    "            raise ValueError(\"Invalid number of target qubits provided to qiskit_gate_test.\")\n",
    "        qiskit_output = self.run_qiskit_circuit(self.qiskit_circ)\n",
    "        return qiskit_output\n",
    "   \n",
    "    def our_gate_test(self, our_gate, test_qubits):\n",
    "        if len(test_qubits) == 3:\n",
    "            exec(\"self.our_circ.\" + str(our_gate) + \"(\" + str(test_qubits[0]) + \", \" + str(test_qubits[1]) + \", \" + str(test_qubits[2]) + \")\")\n",
    "        elif len(test_qubits) == 2:\n",
    "            exec(\"self.our_circ.\" + str(our_gate) + \"(\" + str(test_qubits[0]) + \", \" + str(test_qubits[1]) + \")\")\n",
    "        elif len(test_qubits) == 1:\n",
    "            exec(\"self.our_circ.\" + str(our_gate) + \"(\" + str(test_qubits[0]) + \")\")\n",
    "        else:\n",
    "            raise ValueError(\"Invalid number of target qubits provided to our_gate_test.\")\n",
    "        our_output = np.transpose(self.our_circ.state)[0].astype(complex)\n",
    "        return our_output\n",
    "    \n",
    "    def test_gate(self, test_qubit_1, test_qubit_2=None, test_qubit_3=None, test_angle=None):\n",
    "        test_qubits_qiskit = [x for x in [test_qubit_1, test_qubit_2, test_qubit_3] if x != None]\n",
    "        test_qubits_ours = np.subtract(np.dot(np.ones_like(test_qubits_qiskit), self.num_qubits-1), test_qubits_qiskit)\n",
    "        \n",
    "        gate_this_test = next((x for x in self.gate_database if x.qiskit_name == self.gate_input), None)\n",
    "        \n",
    "        assert len(test_qubits_qiskit)<=gate_this_test.num_qubits, \"Number of test qubits provided is greater than number given gate operates on\"\n",
    "        assert np.max(np.array(test_qubits_qiskit))<self.num_qubits, \"Test qubit index greater than largest register index\"\n",
    "        \n",
    "        qiskit_output = self.qiskit_gate_test(gate_this_test.qiskit_name, test_qubits_qiskit, test_angle)\n",
    "        our_output = self.our_gate_test(gate_this_test.our_name, test_qubits_ours)\n",
    "        \n",
    "        #assert np.equal(qiskit_output, our_output).all(), \"The states after the gate's application do not match.\"\n",
    "        print(qiskit_output)\n",
    "        print(our_output)"
   ]
  },
  {
   "cell_type": "code",
   "execution_count": 18,
   "metadata": {},
   "outputs": [
    {
     "name": "stdout",
     "output_type": "stream",
     "text": [
      "[1.+0.j 0.+0.j 0.+0.j 0.+0.j 0.+0.j 0.+0.j 0.+0.j 0.+0.j]\n",
      "[1.+0.j 0.+0.j 0.+0.j 0.+0.j 0.+0.j 0.+0.j 0.+0.j 0.+0.j]\n"
     ]
    }
   ],
   "source": [
    "Gate_Testing(\"swap\", 3).test_gate(0, test_qubit_2=2)"
   ]
  },
  {
   "cell_type": "code",
   "execution_count": null,
   "metadata": {},
   "outputs": [],
   "source": []
  }
 ],
 "metadata": {
  "kernelspec": {
   "display_name": "Python 3",
   "language": "python",
   "name": "python3"
  },
  "language_info": {
   "codemirror_mode": {
    "name": "ipython",
    "version": 3
   },
   "file_extension": ".py",
   "mimetype": "text/x-python",
   "name": "python",
   "nbconvert_exporter": "python",
   "pygments_lexer": "ipython3",
   "version": "3.8.5"
  }
 },
 "nbformat": 4,
 "nbformat_minor": 4
}
